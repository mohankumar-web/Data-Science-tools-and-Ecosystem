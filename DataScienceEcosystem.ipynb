{
 "cells": [
  {
   "cell_type": "markdown",
   "id": "6a09dfb1-3ef5-477c-9c21-c2f50b46c637",
   "metadata": {},
   "source": [
    "# Data Science Tools and Ecosystem"
   ]
  },
  {
   "cell_type": "markdown",
   "id": "e4e70ee0-2df5-4e8a-942c-e00bd9dab8e1",
   "metadata": {},
   "source": [
    "In this notebook, Data Science Tools and Ecosystem are summarized."
   ]
  },
  {
   "cell_type": "markdown",
   "id": "0d999898-feea-4be0-a951-5a7c4a3703ba",
   "metadata": {},
   "source": [
    "**Objectives:**\n",
    "* List popular languages for Data Science\n",
    "* List commonly used libraries\n",
    "* Data Science Tools\n",
    "* Evaluating arithmetic expressions"
   ]
  },
  {
   "cell_type": "markdown",
   "id": "d48bb3bc-02da-4a7c-9c48-9a3a7d623a28",
   "metadata": {},
   "source": [
    "Some of the popular languages that Data Scientists use are:\n",
    "1. Python\n",
    "2. R\n",
    "3. Java\n",
    "4. Scala\n",
    "5. Julia"
   ]
  },
  {
   "cell_type": "markdown",
   "id": "75a21487-55ed-47d6-8de3-f6a3233fa80f",
   "metadata": {},
   "source": [
    "Some of the commonly used libraries used by Data Scientists include:\n",
    "1. Pandas\n",
    "2. NumPy\n",
    "3. Scikitlearn\n",
    "4. Matplotlib"
   ]
  },
  {
   "cell_type": "markdown",
   "id": "9431f733-ed30-4fc7-8c57-eda88460e134",
   "metadata": {},
   "source": [
    "|Data Science Tools|\n",
    "|----------------|\n",
    "|Apache Spark|\n",
    "|Jupyter Notebook|\n",
    "|Apache Hadoop|\n",
    "|TensorFlow|"
   ]
  },
  {
   "cell_type": "markdown",
   "id": "b23f708e-97e2-4cb1-928e-354021932505",
   "metadata": {},
   "source": [
    "### Below are a few examples of evaluating arithmetic expressions in Python"
   ]
  },
  {
   "cell_type": "code",
   "execution_count": 2,
   "id": "5ba207ce-1664-466a-ad3f-ec6abea058d9",
   "metadata": {},
   "outputs": [
    {
     "data": {
      "text/plain": [
       "17"
      ]
     },
     "execution_count": 2,
     "metadata": {},
     "output_type": "execute_result"
    }
   ],
   "source": [
    "# This a simple arithmetic expression to mutiply then add integers\n",
    "(3*4)+5"
   ]
  },
  {
   "cell_type": "code",
   "execution_count": 4,
   "id": "89e0c0c2-67e2-48e7-ae2d-c1669d355e98",
   "metadata": {},
   "outputs": [
    {
     "name": "stdout",
     "output_type": "stream",
     "text": [
      "3.3333333333333335 hours\n"
     ]
    }
   ],
   "source": [
    "# This will convert 200 minutes to hours by diving by 60\n",
    "print(200/60,\"hours\")"
   ]
  },
  {
   "cell_type": "markdown",
   "id": "8452c24b-91a6-4ad0-9944-b5fdd19d6404",
   "metadata": {},
   "source": [
    "## Author\n",
    "Mohan Kumar Panchakarla"
   ]
  },
  {
   "cell_type": "code",
   "execution_count": null,
   "id": "ad163739-4763-4392-a6ea-4d524143bfdf",
   "metadata": {},
   "outputs": [],
   "source": []
  }
 ],
 "metadata": {
  "kernelspec": {
   "display_name": "Python 3 (ipykernel)",
   "language": "python",
   "name": "python3"
  },
  "language_info": {
   "codemirror_mode": {
    "name": "ipython",
    "version": 3
   },
   "file_extension": ".py",
   "mimetype": "text/x-python",
   "name": "python",
   "nbconvert_exporter": "python",
   "pygments_lexer": "ipython3",
   "version": "3.11.5"
  }
 },
 "nbformat": 4,
 "nbformat_minor": 5
}
